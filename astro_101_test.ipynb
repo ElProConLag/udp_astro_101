{
 "cells": [
  {
   "cell_type": "markdown",
   "id": "fa3955af",
   "metadata": {},
   "source": [
    "# Import dependencies"
   ]
  },
  {
   "cell_type": "markdown",
   "id": "908a9fb5",
   "metadata": {},
   "source": [
    "Instalar las librerias puede tardar un minuto."
   ]
  },
  {
   "cell_type": "code",
   "execution_count": 3,
   "id": "86de34b0",
   "metadata": {
    "ExecuteTime": {
     "end_time": "2024-05-17T19:59:45.480941Z",
     "start_time": "2024-05-17T19:59:44.831195Z"
    }
   },
   "outputs": [],
   "source": [
    "%%capture\n",
    "import numpy as np\n",
    "try:\n",
    "    import reddemcee\n",
    "except ModuleNotFoundError:\n",
    "    !pip3 install git+https://github.com/ReddTea/reddemcee.git\n",
    "    import reddemcee\n",
    "\n",
    "try:\n",
    "    import astroemperor as emp\n",
    "except ModuleNotFoundError:\n",
    "    !pip3 install git+https://github.com/ReddTea/astroemperor.git\n",
    "    import astroemperor as emp"
   ]
  },
  {
   "cell_type": "markdown",
   "id": "6b5f00f3",
   "metadata": {},
   "source": [
    "# Test reddemcee"
   ]
  },
  {
   "cell_type": "code",
   "execution_count": 4,
   "id": "6ca72cb4",
   "metadata": {
    "ExecuteTime": {
     "end_time": "2024-05-17T19:59:46.131445Z",
     "start_time": "2024-05-17T19:59:46.127464Z"
    }
   },
   "outputs": [],
   "source": [
    "def log_like(x, ivar):\n",
    "    return -0.5 * np.sum(ivar * x ** 2)\n",
    "\n",
    "def log_prior(x):\n",
    "    return 0.0\n",
    "\n",
    "ndim, nwalkers = 5, 100\n",
    "ntemps = 5\n",
    "ivar = 1. / np.random.rand(ndim)\n",
    "p0 = list(np.random.randn(10, nwalkers, ndim))"
   ]
  },
  {
   "cell_type": "code",
   "execution_count": 5,
   "id": "c4c398ac",
   "metadata": {
    "ExecuteTime": {
     "end_time": "2024-05-17T19:59:47.723209Z",
     "start_time": "2024-05-17T19:59:47.717656Z"
    }
   },
   "outputs": [],
   "source": [
    "# init sampler\n",
    "sampler = reddemcee.PTSampler(nwalkers, ndim, log_like, log_prior,\n",
    "                              ntemps=ntemps, adaptative=True, logl_args=[ivar])"
   ]
  },
  {
   "cell_type": "code",
   "execution_count": 6,
   "id": "22713d40",
   "metadata": {
    "ExecuteTime": {
     "end_time": "2024-05-17T19:59:52.007839Z",
     "start_time": "2024-05-17T19:59:49.304243Z"
    }
   },
   "outputs": [
    {
     "name": "stderr",
     "output_type": "stream",
     "text": [
      "100%|█████████████████████████████████████████████████████████████████| 400/400 [00:02<00:00, 148.41it/s]\n"
     ]
    }
   ],
   "source": [
    "s0 = sampler.run_mcmc(p0, 200, 2)"
   ]
  },
  {
   "cell_type": "markdown",
   "id": "883ab5d6",
   "metadata": {},
   "source": [
    "# Test emp"
   ]
  },
  {
   "cell_type": "code",
   "execution_count": 8,
   "id": "7ce7fc2e",
   "metadata": {
    "ExecuteTime": {
     "end_time": "2024-05-17T20:00:19.377911Z",
     "start_time": "2024-05-17T20:00:19.355159Z"
    }
   },
   "outputs": [
    {
     "name": "stdout",
     "output_type": "stream",
     "text": [
      "\u001b[7m\u001b[1m\u001b[32m                                                                                \u001b[0m\n",
      "\u001b[7m\u001b[1m\u001b[32m                   ~~ Simulation Successfully Initialized ~~                    \u001b[0m\n",
      "\u001b[7m\u001b[1m\u001b[32m                                                                                \u001b[0m\n",
      "\n",
      "\n",
      "\u001b[34m                         \n",
      "Reading data from 51peg.vels\n",
      "                         \u001b[0m\n",
      "\n",
      "\n"
     ]
    },
    {
     "ename": "AttributeError",
     "evalue": "'Simulation' object has no attribute 'plot_all'",
     "output_type": "error",
     "traceback": [
      "\u001b[0;31m---------------------------------------------------------------------------\u001b[0m",
      "\u001b[0;31mAttributeError\u001b[0m                            Traceback (most recent call last)",
      "Input \u001b[0;32mIn [8]\u001b[0m, in \u001b[0;36m<cell line: 6>\u001b[0;34m()\u001b[0m\n\u001b[1;32m      3\u001b[0m setup \u001b[38;5;241m=\u001b[39m np\u001b[38;5;241m.\u001b[39marray([\u001b[38;5;241m3\u001b[39m, \u001b[38;5;241m50\u001b[39m, \u001b[38;5;241m250\u001b[39m, \u001b[38;5;241m2\u001b[39m])\n\u001b[1;32m      5\u001b[0m sim\u001b[38;5;241m.\u001b[39mload_data(\u001b[38;5;124m'\u001b[39m\u001b[38;5;124m51Peg\u001b[39m\u001b[38;5;124m'\u001b[39m)  \u001b[38;5;66;03m# Target folder name in /datafiles/\u001b[39;00m\n\u001b[0;32m----> 6\u001b[0m \u001b[43msim\u001b[49m\u001b[38;5;241;43m.\u001b[39;49m\u001b[43mplot_all\u001b[49m[\u001b[38;5;124m'\u001b[39m\u001b[38;5;124mpaper_mode\u001b[39m\u001b[38;5;124m'\u001b[39m] \u001b[38;5;241m=\u001b[39m \u001b[38;5;28;01mTrue\u001b[39;00m\n",
      "\u001b[0;31mAttributeError\u001b[0m: 'Simulation' object has no attribute 'plot_all'"
     ]
    }
   ],
   "source": [
    "sim = emp.Simulation()\n",
    "sim.set_engine('reddemcee')\n",
    "setup = np.array([3, 50, 250, 2])\n",
    "\n",
    "sim.load_data('51Peg')  # Target folder name in /datafiles/\n",
    "sim.plot_all['paper_mode'] = True"
   ]
  },
  {
   "cell_type": "code",
   "execution_count": null,
   "id": "80dda868",
   "metadata": {},
   "outputs": [],
   "source": []
  }
 ],
 "metadata": {
  "kernelspec": {
   "display_name": "Python 3 (ipykernel)",
   "language": "python",
   "name": "python3"
  },
  "language_info": {
   "codemirror_mode": {
    "name": "ipython",
    "version": 3
   },
   "file_extension": ".py",
   "mimetype": "text/x-python",
   "name": "python",
   "nbconvert_exporter": "python",
   "pygments_lexer": "ipython3",
   "version": "3.9.12"
  }
 },
 "nbformat": 4,
 "nbformat_minor": 5
}

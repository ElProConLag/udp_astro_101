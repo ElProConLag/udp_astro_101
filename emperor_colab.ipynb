{
  "cells": [
    {
      "cell_type": "markdown",
      "metadata": {
        "id": "SB7zCvYZV5KD"
      },
      "source": [
        "astro_101 placeholder for (course name)"
      ]
    },
    {
      "cell_type": "markdown",
      "metadata": {
        "id": "CmCayqo4TAYa"
      },
      "source": [
        "# Actividad astro_101\n",
        "Este cuaderno le ayudará a instalar todo lo que necesita para realizar la reducción y análisis de los datos de [...].\n",
        "\n",
        "Asegúrese de leerlo bien."
      ]
    },
    {
      "cell_type": "markdown",
      "metadata": {
        "id": "uHFoWekcTOOT"
      },
      "source": [
        "# 1 Setup\n",
        "Lo primero que debe realizar es descargar los archivos necesarios para la actividad. Para esto, debe:\n",
        "\n",
        "\n",
        "1.   enlazar GD al colab\n",
        "2.   descargar archivos a su GD\n",
        "\n",
        "\n",
        "El primer paso que debe tomar es conectar su Google Drive (hagalo con el asociado a su correo mail.udp.cl). Para esto, en el lado izquierdo aprete el ícono que tiene forma de carpeta. En el menú que se abre, haga click en el ícono de Google Drive (carpeta con un símbolo parecido al del reciclaje) y de permiso para su conexión.\n",
        "\n",
        "Alternativamente, ejecute el código siguiente (haciendo click sobre el icono play)."
      ]
    },
    {
      "cell_type": "code",
      "execution_count": 1,
      "metadata": {
        "id": "ZhdYQLXBCVbq"
      },
      "outputs": [],
      "source": [
        "import os\n",
        "from google.colab import drive"
      ]
    },
    {
      "cell_type": "code",
      "execution_count": 2,
      "metadata": {
        "colab": {
          "base_uri": "https://localhost:8080/"
        },
        "id": "194LiRXcB_-s",
        "outputId": "2a91b240-c17f-4b58-a9ce-c41dc2b9766e"
      },
      "outputs": [
        {
          "output_type": "stream",
          "name": "stdout",
          "text": [
            "Mounted at /content/drive\n"
          ]
        }
      ],
      "source": [
        "# conectar drive\n",
        "drive.mount('/content/drive')"
      ]
    },
    {
      "cell_type": "code",
      "source": [
        "!pwd"
      ],
      "metadata": {
        "id": "CN7636JMCB85",
        "outputId": "d2d135e0-4610-4de4-8193-8c7df5eef083",
        "colab": {
          "base_uri": "https://localhost:8080/"
        }
      },
      "execution_count": 3,
      "outputs": [
        {
          "output_type": "stream",
          "name": "stdout",
          "text": [
            "/content\n"
          ]
        }
      ]
    },
    {
      "cell_type": "code",
      "execution_count": 4,
      "metadata": {
        "id": "7wTRZ5-dCK5-"
      },
      "outputs": [],
      "source": [
        "#Cambiamos el directorio de trabajo al de Google Drive.\n",
        "os.chdir('drive/MyDrive')"
      ]
    },
    {
      "cell_type": "code",
      "source": [
        "#!rm -rf astro_101"
      ],
      "metadata": {
        "id": "9n7ZO2fHCMcs"
      },
      "execution_count": 8,
      "outputs": []
    },
    {
      "cell_type": "code",
      "execution_count": 9,
      "metadata": {
        "id": "4LpH72phCLUV"
      },
      "outputs": [],
      "source": [
        "#Creamos un directorio donde vamos a guardar todas las rutinas y los archivos.\n",
        "!mkdir astro_101\n",
        "os.chdir('astro_101')"
      ]
    },
    {
      "cell_type": "code",
      "execution_count": 10,
      "metadata": {
        "colab": {
          "base_uri": "https://localhost:8080/"
        },
        "id": "CQ7vI20nCLYS",
        "outputId": "85e6d3eb-d014-4c43-b2c1-2bca164526b5"
      },
      "outputs": [
        {
          "output_type": "stream",
          "name": "stdout",
          "text": [
            "Cloning into 'udp_astro_101'...\n",
            "remote: Enumerating objects: 19, done.\u001b[K\n",
            "remote: Counting objects: 100% (19/19), done.\u001b[K\n",
            "remote: Compressing objects: 100% (11/11), done.\u001b[K\n",
            "remote: Total 19 (delta 3), reused 15 (delta 2), pack-reused 0\u001b[K\n",
            "Receiving objects: 100% (19/19), 11.93 KiB | 1.19 MiB/s, done.\n",
            "Resolving deltas: 100% (3/3), done.\n"
          ]
        }
      ],
      "source": [
        "#Descargamos las rutinas desde el repositorio de Github.\n",
        "!git clone https://github.com/ReddTea/udp_astro_101\n",
        "#!git pull https://github.com/ReddTea/udp_astro_101"
      ]
    },
    {
      "cell_type": "markdown",
      "source": [
        "# 2 TEST\n",
        "Nos aseguraremos que las rutinas pueden correr sin problemas con el siguiente test. Para esto es necesario:\n",
        "\n",
        "\n",
        "1.   Ubicarse en la carpeta de trabajo\n",
        "2.   Instalar las librerias necesarias\n",
        "3.   Correr los test\n",
        "\n"
      ],
      "metadata": {
        "id": "wkzcCb1XMDqk"
      }
    },
    {
      "cell_type": "code",
      "source": [
        "os.chdir('udp_astro_101')"
      ],
      "metadata": {
        "id": "9eX0xs4CNIIB"
      },
      "execution_count": 11,
      "outputs": []
    },
    {
      "cell_type": "code",
      "source": [
        "!pwd"
      ],
      "metadata": {
        "id": "N4BRv067CZFe",
        "outputId": "66824695-ab95-4055-9be3-5101c7bd7ac2",
        "colab": {
          "base_uri": "https://localhost:8080/"
        }
      },
      "execution_count": 12,
      "outputs": [
        {
          "output_type": "stream",
          "name": "stdout",
          "text": [
            "/content/drive/MyDrive/astro_101/astro_101/udp_astro_101\n"
          ]
        }
      ]
    },
    {
      "cell_type": "markdown",
      "source": [
        "## 2.1 Install python libraries"
      ],
      "metadata": {
        "id": "zHXWMr98Cv3K"
      }
    },
    {
      "cell_type": "code",
      "source": [
        "%%capture\n",
        "import numpy as np\n",
        "try:\n",
        "    import reddemcee\n",
        "except ModuleNotFoundError:\n",
        "    !pip3 install git+https://github.com/ReddTea/reddemcee.git\n",
        "    import reddemcee\n",
        "\n",
        "try:\n",
        "    import astroemperor as emp\n",
        "except ModuleNotFoundError:\n",
        "    !pip3 install git+https://github.com/ReddTea/astroemperor.git\n",
        "    import astroemperor as emp"
      ],
      "metadata": {
        "id": "Uczq0klPMFd8"
      },
      "execution_count": 13,
      "outputs": []
    },
    {
      "cell_type": "markdown",
      "source": [
        "## 2.2 Test reddemcee"
      ],
      "metadata": {
        "id": "T2JNzj2MMyfq"
      }
    },
    {
      "cell_type": "code",
      "source": [
        "def log_like(x, ivar):\n",
        "    return -0.5 * np.sum(ivar * x ** 2)\n",
        "\n",
        "def log_prior(x):\n",
        "    return 0.0\n",
        "\n",
        "ndim, nwalkers = 5, 100\n",
        "ntemps = 5\n",
        "ivar = 1. / np.random.rand(ndim)\n",
        "p0 = list(np.random.randn(10, nwalkers, ndim))"
      ],
      "metadata": {
        "id": "mMrbJudDMZlA"
      },
      "execution_count": 15,
      "outputs": []
    },
    {
      "cell_type": "code",
      "source": [
        "# init sampler\n",
        "sampler = reddemcee.PTSampler(nwalkers, ndim, log_like, log_prior,\n",
        "                              ntemps=ntemps, adaptative=True, logl_args=[ivar])"
      ],
      "metadata": {
        "id": "BsjL-F7sMqAu"
      },
      "execution_count": 16,
      "outputs": []
    },
    {
      "cell_type": "code",
      "source": [
        "s0 = sampler.run_mcmc(p0, 200, 2)"
      ],
      "metadata": {
        "colab": {
          "base_uri": "https://localhost:8080/"
        },
        "id": "4wigYtIkM1Pt",
        "outputId": "dbc06cbb-d9b2-4c28-c283-e22971298768"
      },
      "execution_count": 17,
      "outputs": [
        {
          "output_type": "stream",
          "name": "stderr",
          "text": [
            "100%|██████████| 400/400 [00:04<00:00, 85.05it/s]\n"
          ]
        }
      ]
    },
    {
      "cell_type": "markdown",
      "source": [
        "## 2.3 Test astroemperor"
      ],
      "metadata": {
        "id": "HsNMQ4tKM89b"
      }
    },
    {
      "cell_type": "code",
      "source": [
        "!pwd"
      ],
      "metadata": {
        "id": "vG4PSWhnC9sz",
        "outputId": "94a5aa5a-7532-4c14-ef77-75717c7f60fd",
        "colab": {
          "base_uri": "https://localhost:8080/"
        }
      },
      "execution_count": 18,
      "outputs": [
        {
          "output_type": "stream",
          "name": "stdout",
          "text": [
            "/content/drive/MyDrive/astro_101/astro_101/udp_astro_101\n"
          ]
        }
      ]
    },
    {
      "cell_type": "code",
      "source": [
        "import sys\n",
        "sys.path.append('/content/drive/MyDrive/astro_101/astro_101/udp_astro_101')"
      ],
      "metadata": {
        "id": "pL73NWEGFbng"
      },
      "execution_count": 24,
      "outputs": []
    },
    {
      "cell_type": "code",
      "source": [
        "sim = emp.Simulation()\n",
        "sim.set_engine('reddemcee')\n",
        "setup = np.array([2, 50, 100, 2])\n",
        "\n",
        "sim.load_data('51Peg')  # Target folder name in /datafiles/\n",
        "sim.plot_all['paper_mode'] = True"
      ],
      "metadata": {
        "colab": {
          "base_uri": "https://localhost:8080/"
        },
        "id": "Xcjz8V6PM6xx",
        "outputId": "15a66daf-3ae1-4628-82b3-05d8a10b1a87"
      },
      "execution_count": 25,
      "outputs": [
        {
          "output_type": "stream",
          "name": "stdout",
          "text": [
            "                                                                                \n",
            "                   ~~ Simulation Successfully Initialized ~~                    \n",
            "                                                                                \n",
            "\n",
            "\n",
            "                         Reading data from 51peg.vels\n",
            "                          \n",
            "\n",
            "\n"
          ]
        }
      ]
    },
    {
      "cell_type": "code",
      "source": [
        "sim.run_auto(setup, k_start=1, k_end=1)"
      ],
      "metadata": {
        "colab": {
          "base_uri": "https://localhost:8080/"
        },
        "id": "sSDMiYyzM-ar",
        "outputId": "786aee5c-abcb-4f9d-f3f7-30eecb429c3c"
      },
      "execution_count": 26,
      "outputs": [
        {
          "output_type": "stream",
          "name": "stdout",
          "text": [
            "                                       Offset block added, OffsetBlock          \n",
            "\n",
            "\n",
            "                                       Jitter block added, JitterBlock          \n",
            "\n",
            "\n",
            "                                   Keplerian block added, KeplerianBlock 1      \n",
            "\n",
            "\n",
            "\n",
            "\n",
            "\n",
            "                                ~~ Setup Info ~~                                \n",
            "\n",
            "Current Engine is            reddemcee 0.6\n",
            "\n",
            "Number of cores is           2\n",
            "\n",
            "Save location is             datalogs/51Peg/run_2/k1\n",
            "\n",
            "Dynamical Criteria is        None\n",
            "\n",
            "Posterior fit method is      Gaussian Mixtures\n",
            "\n",
            "Limits constrain method is   sigma\n",
            "\n",
            "Model Selection method is    BIC\n",
            "\n",
            "\n",
            "                           ~~ Automatically Saving ~~                           \n",
            "\n",
            "\n",
            "Logger       : ✔\n",
            "\n",
            "Samples      : ✘\n",
            "\n",
            "Posteriors   : ✔\n",
            "\n",
            "Likelihoods  : ✔\n",
            "\n",
            "\n",
            "Plots: Posteriors           : ✔\n",
            "\n",
            "Plots: Keplerian Model      : ✔\n",
            "\n",
            "Plots: Gaussian Mixture     : ✔\n",
            "\n",
            "Plots: Parameter Histograms : ✔\n",
            "\n",
            "\n",
            "\n",
            "                               ~~ Pre-Run Info ~~                               \n",
            "\n",
            "\n",
            "\n",
            "Parameter           Prior               Limits\n",
            "------------------  ------------------  ---------------------------\n",
            "Period 1            ~𝓤 (1.5, 2187.042)  [1.500000e+00 2.187042e+03]\n",
            "Amplitude 1         ~𝓤 (0.0, 79.833)    [ 0.    79.833]\n",
            "Phase 1             ~𝓤 (0.0, 6.283)     [0.    6.283]\n",
            "Eccentricity 1      ~𝓝 (0.0, 0.1)       [0. 1.]\n",
            "Longitude 1         ~𝓤 (0.0, 6.283)     [0.    6.283]\n",
            "\n",
            "------------------  --------------------  -----------------\n",
            "Offset 1            ~𝓤 (-75.852, 75.852)  [-75.852  75.852]\n",
            "\n",
            "------------------  ----------  ---------------\n",
            "Jitter 1            ~𝓝 (5, 5)   [ 0.    75.852]\n",
            "\n",
            "\n",
            "\n",
            "Math for KeplerianBlock 1:\n",
            "\n",
            "                        K⋅(cos(ν(t,P,𝜙,e)+𝜔)+e⋅cos(𝜔))|₁                        \n",
            "Math for OffsetBlock:\n",
            "\n",
            "                                      γ₀|ᵢ                                      \n",
            "Math for JitterBlock:\n",
            "\n",
            "                                                                                \n",
            "\n",
            "\n",
            "\n",
            "\n",
            "                               Generating Samples                               \n",
            "\n",
            "\n",
            "                         Calculating Gaussian Mixtures                          \n"
          ]
        },
        {
          "output_type": "stream",
          "name": "stderr",
          "text": [
            "\n",
            "  0%|          | 0/9 [00:00<?, ?it/s]\u001b[A\n",
            " 11%|█         | 1/9 [00:00<00:01,  6.03it/s]\u001b[A\n",
            " 44%|████▍     | 4/9 [00:00<00:00, 15.02it/s]\u001b[A\n",
            "100%|██████████| 9/9 [00:00<00:00, 17.29it/s]"
          ]
        },
        {
          "output_type": "stream",
          "name": "stdout",
          "text": [
            "\n",
            "\n",
            "\n",
            "                                 ~~ Best Fit ~~                                 \n",
            "\n",
            "\n",
            "\n",
            "Parameter           Posterior                 Value (max)    Value (mean)    Sigma  Limits\n",
            "------------------  ----------------------  -------------  --------------  -------  ---------------------------\n",
            "Period 1            ~𝓝 (1081.085, 457.835)       1105.7          1081.09   457.835  [1.500000e+00 2.187042e+03]\n",
            "Amplitude 1         ~𝓝 (11.799, 6.891)             17.195          11.799    6.891  [ 0.    79.833]\n",
            "Phase 1             ~𝓝 (2.841, 1.672)               0.365           2.841    1.672  [0.    6.283]\n",
            "Eccentricity 1      ~𝓝 (0.094, 0.069)               0.051           0.094    0.069  [0. 1.]\n",
            "Longitude 1         ~𝓝 (2.643, 1.66)                4.593           2.643    1.66   [0.    6.283]\n",
            "\n",
            "------------------  ------------------  -------------  -------------  -------  -------------\n",
            "Semi-Major Axis 1   ~𝓝 (2.012, 0.618)           2.093          2.012    0.618  [   0. 1000.]\n",
            "Minimum Mass 1      ~𝓝 (0.589, 0.363)           0.874          0.589    0.363  [   0. 1000.]\n",
            "\n",
            "------------------  ------------------  -------------  -------------  -------  -----------------\n",
            "Offset 1            ~𝓝 (-4.01, 4.958)           -5.77          -4.01    4.958  [-75.852  75.852]\n",
            "\n",
            "------------------  ------------------  -------------  -------------  -------  ---------------\n",
            "Jitter 1            ~𝓝 (35.997, 1.412)         34.856         35.997    1.412  [ 0.    75.852]\n",
            "\n",
            "\n",
            "\n",
            "                                 ~~ Run Info ~~                                 \n",
            "\n",
            "\n",
            "\n",
            "\n",
            "\n",
            "\n",
            "Info                                      Value\n",
            "----------------------------------------  --------------------------------------------------\n",
            "Star Name                      :          51Peg\n",
            "The sample sizes are           :          [10000, 10000]\n",
            "Temperatures, Walkers, Sweeps, Steps   :  [2, 50, 200, 2]\n",
            "Model used is                  :          ['KeplerianBlock 1', 'OffsetBlock', 'JitterBlock']\n",
            "N data                         :          256\n",
            "Number of Dimensions           :          7\n",
            "Degrees of Freedom             :          249\n",
            "\n",
            "\n",
            "              ---------------------------------------------------               \n",
            "\n",
            "\n",
            "\n",
            "Beta Detail                     :   ['1.000', '0.400']\n",
            "\n",
            "Temperature Swap                :   ['0.200']\n",
            "\n",
            "Mean Acceptance Fraction        :   ['0.287', '0.270']\n",
            "\n",
            "\n",
            "\n",
            "                           ~~ Statistical Details ~~                            \n",
            "\n",
            "\n",
            "\n",
            "Statistic                            Value\n",
            "-----------------------------------  ------------------\n",
            "The evidence is             :        -1313.950 +- 0.305\n",
            "The maximum posterior is    :        -1345.601\n",
            "The maximum likelihood is   :        -1305.733\n",
            "The BIC is                  :        2650.283\n",
            "The AIC is                  :        2625.467\n",
            "The DIC is                  :        2638.669\n",
            "The HQIC is                 :        2635.448\n",
            "The Bayes Factor is         :        8.216\n",
            "The chi2 is                 :        313.398\n",
            "The reduced chi2 is         :        1.259\n",
            "The RMSE is                 :        39.304\n",
            "\n",
            "\n",
            "\n",
            "\n",
            "\n",
            "                        Plotting Posterior Scatter Plot                         \n"
          ]
        },
        {
          "output_type": "stream",
          "name": "stderr",
          "text": [
            "\n",
            "\n",
            "  0%|          | 0/4 [00:00<?, ?it/s]\u001b[A\n",
            " 25%|██▌       | 1/4 [00:09<00:27,  9.10s/it]\u001b[A\n",
            " 50%|█████     | 2/4 [00:09<00:07,  3.91s/it]\u001b[A\n",
            " 75%|███████▌  | 3/4 [00:29<00:11, 11.42s/it]\u001b[A\n",
            "100%|██████████| 4/4 [00:30<00:00,  7.52s/it]\n",
            "\n",
            "  0%|          | 0/2 [00:00<?, ?it/s]\u001b[A\n",
            " 50%|█████     | 1/2 [00:06<00:06,  6.79s/it]\u001b[A\n",
            "100%|██████████| 2/2 [00:06<00:00,  3.49s/it]\n"
          ]
        },
        {
          "output_type": "stream",
          "name": "stdout",
          "text": [
            "\n",
            "\n",
            "                            Plotting Histograms Plot                            \n"
          ]
        },
        {
          "output_type": "stream",
          "name": "stderr",
          "text": [
            "\n",
            "  0%|          | 0/6 [00:00<?, ?it/s]\u001b[A\n",
            " 17%|█▋        | 1/6 [00:03<00:16,  3.25s/it]\u001b[A\n",
            " 33%|███▎      | 2/6 [00:03<00:06,  1.66s/it]\u001b[A\n",
            " 50%|█████     | 3/6 [00:04<00:03,  1.15s/it]\u001b[A\n",
            " 67%|██████▋   | 4/6 [00:06<00:03,  1.55s/it]\u001b[A\n",
            " 83%|████████▎ | 5/6 [00:07<00:01,  1.20s/it]\u001b[A\n",
            "100%|██████████| 6/6 [00:07<00:00,  1.27s/it]\n"
          ]
        },
        {
          "output_type": "stream",
          "name": "stdout",
          "text": [
            "\n",
            "\n",
            "                           Plotting Keplerian Models                            \n"
          ]
        },
        {
          "output_type": "stream",
          "name": "stderr",
          "text": [
            "\n",
            "  0%|          | 0/2 [00:00<?, ?it/s]\u001b[A\n",
            " 50%|█████     | 1/2 [00:02<00:02,  2.04s/it]\u001b[A\n",
            "100%|██████████| 2/2 [00:03<00:00,  1.85s/it]\n"
          ]
        },
        {
          "output_type": "stream",
          "name": "stdout",
          "text": [
            "\n",
            "\n",
            "                          Plotting E[log L](beta) Plot                          \n"
          ]
        },
        {
          "output_type": "stream",
          "name": "stderr",
          "text": [
            "\n",
            "  0%|          | 0/1 [00:00<?, ?it/s]\u001b[A\n",
            "100%|██████████| 1/1 [00:00<00:00,  2.49it/s]\n"
          ]
        },
        {
          "output_type": "stream",
          "name": "stdout",
          "text": [
            "\n",
            "\n",
            "                           Plotting Temperature Rates                           \n"
          ]
        },
        {
          "output_type": "stream",
          "name": "stderr",
          "text": [
            "\n",
            "  0%|          | 0/1 [00:00<?, ?it/s]\u001b[A\n",
            "100%|██████████| 1/1 [00:00<00:00,  1.27it/s]\n"
          ]
        },
        {
          "output_type": "stream",
          "name": "stdout",
          "text": [
            "\n",
            "\n",
            "                                   PLOT ARVIZ                                   \n"
          ]
        },
        {
          "output_type": "stream",
          "name": "stderr",
          "text": [
            "\n",
            "  0%|          | 0/3 [00:00<?, ?it/s]\u001b[A/usr/local/lib/python3.10/dist-packages/arviz/utils.py:184: NumbaDeprecationWarning: The 'nopython' keyword argument was not supplied to the 'numba.jit' decorator. The implicit default value for this argument is currently False, but it will be changed to True in Numba 0.59.0. See https://numba.readthedocs.io/en/stable/reference/deprecation.html#deprecation-of-object-mode-fall-back-behaviour-when-using-jit for details.\n",
            "  numba_fn = numba.jit(**self.kwargs)(self.function)\n",
            "\n",
            " 33%|███▎      | 1/3 [00:22<00:44, 22.07s/it]\u001b[A\n",
            " 67%|██████▋   | 2/3 [00:23<00:10, 10.03s/it]\u001b[A\n",
            "100%|██████████| 3/3 [00:25<00:00,  8.51s/it]\n"
          ]
        },
        {
          "output_type": "stream",
          "name": "stdout",
          "text": [
            "\n",
            "\n",
            "                           Plotting Gaussian Mixtures                           \n"
          ]
        },
        {
          "output_type": "stream",
          "name": "stderr",
          "text": [
            "\n",
            "  0%|          | 0/7 [00:00<?, ?it/s]\u001b[A\n",
            " 14%|█▍        | 1/7 [00:00<00:02,  2.06it/s]\u001b[A\n",
            " 29%|██▊       | 2/7 [00:01<00:02,  1.95it/s]\u001b[A\n",
            " 43%|████▎     | 3/7 [00:01<00:02,  1.95it/s]\u001b[A\n",
            " 57%|█████▋    | 4/7 [00:02<00:01,  1.96it/s]\u001b[A\n",
            " 71%|███████▏  | 5/7 [00:02<00:01,  1.91it/s]\u001b[A\n",
            " 86%|████████▌ | 6/7 [00:04<00:00,  1.19it/s]\u001b[A\n",
            "100%|██████████| 7/7 [00:04<00:00,  1.54it/s]\n"
          ]
        },
        {
          "output_type": "stream",
          "name": "stdout",
          "text": [
            "\n",
            "Time RUN         :  00:01:25\n",
            "\n",
            "Time POSTPROCESS :  00:00:00\n",
            "\n",
            "Time CALCULATE GM:  00:00:00\n",
            "\n",
            "Time Plot model      :  00:00:03\n",
            "\n",
            "Time Plot posteriors :  00:00:37\n",
            "\n",
            "Time Plot histograms :  00:00:07\n",
            "\n",
            "Time Plot betas      :  00:00:00\n",
            "\n",
            "Time Plot arviz      :  00:00:25\n",
            "\n",
            "Time Plot GM         :  00:00:04\n",
            "                                  Cleaning Run                                  \n"
          ]
        },
        {
          "output_type": "stream",
          "name": "stderr",
          "text": [
            "\n",
            "100%|██████████| 3/3 [00:00<00:00, 130.09it/s]\n"
          ]
        },
        {
          "output_type": "stream",
          "name": "stdout",
          "text": [
            "\n",
            "BIC condition met!!\n",
            "\n",
            "present BIC < past BIC - 5\n",
            "2650.283 < inf - 5\n",
            "\n",
            "\n",
            "                                                                                \n",
            "                            ~~ Run came to an end ~~                            \n",
            "                                                                                \n",
            "                                       \n",
            "                                        \n"
          ]
        }
      ]
    },
    {
      "cell_type": "code",
      "source": [],
      "metadata": {
        "id": "sTx2Ol1pXmDz"
      },
      "execution_count": 22,
      "outputs": []
    },
    {
      "cell_type": "code",
      "source": [],
      "metadata": {
        "id": "_mW3qgSQXlfO"
      },
      "execution_count": null,
      "outputs": []
    },
    {
      "cell_type": "code",
      "source": [],
      "metadata": {
        "id": "SaIMMbWgKHpc"
      },
      "execution_count": null,
      "outputs": []
    }
  ],
  "metadata": {
    "colab": {
      "provenance": []
    },
    "kernelspec": {
      "display_name": "Python 3",
      "name": "python3"
    },
    "language_info": {
      "name": "python"
    }
  },
  "nbformat": 4,
  "nbformat_minor": 0
}
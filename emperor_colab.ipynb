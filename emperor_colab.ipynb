{
  "cells": [
    {
      "cell_type": "markdown",
      "metadata": {
        "id": "SB7zCvYZV5KD"
      },
      "source": [
        "astro_101 placeholder for (course name)"
      ]
    },
    {
      "cell_type": "markdown",
      "metadata": {
        "id": "CmCayqo4TAYa"
      },
      "source": [
        "# Una Reevaluación del Primer Sistema Planetario Confirmado Descubierto Mediante el Método de Velocidades Radiales, 51 Pegasi b\n",
        "\n",
        "Este cuaderno le ayudará a instalar todo lo que necesita para realizar la reducción y análisis de los datos de 51 Pegasi.\n",
        "\n",
        "**Asegúrese de leerlo bien.**\n",
        "\n"
      ]
    },
    {
      "cell_type": "markdown",
      "source": [
        "En este proyecto, el estudiante obtendrá y analizará los datos de series temporales de velocidad radial de alta precisión (PRV) más recientes y actualizados sobre el primer sistema planetario confirmado, 51 Pegasi b. En 1995, el campo de los estudios de planetas extrasolares se lanzó hacia un nuevo paradigma con el descubrimiento y posterior confirmación del planeta 51 Pegasi b (Mayor & Queloz 1995, Nature). Este sistema ha seguido siendo observado en los años posteriores mediante instrumentos PRV, con el objetivo de refinar aún más los parámetros planetarios y buscar planetas adicionales. Aquí usaremos nuestro código de análisis bayesiano EMPEROR para examinar este conjunto de datos denso y de largo plazo, para mejorar aún más nuestra comprensión de este sistema y cómo se pueden usar los métodos bayesianos para buscar señales Doppler en datos con ruido."
      ],
      "metadata": {
        "id": "hSuZStaqyyaH"
      }
    },
    {
      "cell_type": "markdown",
      "source": [
        "## ¿Qué se hará?\n",
        "El estudiante debe realizar un análisis estadístico de los datos observados, incluidas estimaciones de parámetros, modelización de ruido e inferencia estadística, proporcionando respuestas coherentes a algunas preguntas amplias que se enumeran a continuación. En comparación con el formato típico en papel para el informe escrito, el estudiante se centrará principalmente en los resultados científicos del estudio realizado. Se espera que se incluya discusión sobre los valores de los parámetros de EMPEROR, en particular de las características de la órbita del planeta 51 Pegasi b. ¿Qué tipo de orbita tiene?, ¿qué masa mínima tiene el planeta?, ¿qué tipo de planeta es? Existe la posibilidad de tener otros planetas en el sistema también?  Explica qué sabes de la estadística bayesiana y probabilidades."
      ],
      "metadata": {
        "id": "t0Hx54rjzZLf"
      }
    },
    {
      "cell_type": "markdown",
      "source": [
        "## Empezando\n",
        "El código EMPEROR se ha trasladado a Google Collab, de modo que las pruebas de 51 Pegasi se pueden ejecutar directamente en los servidores de Google. Esto hace que ejecutar EMPEROR por primera vez sea bastante sencillo y todos los resultados se pueden descargar desde el sitio de Collab.\n",
        "Puede encontrar el Proyecto de colaboración EMPEROR en el siguiente enlace, y todos los archivos de ayuda deberían facilitar el proceso para comenzar a ajustar los datos del RV.\n",
        "\n",
        "Colab EMPEROR: https://colab.research.google.com/drive/1K4SvaK94-b30K0FCKXtFvCS9t0J_v3Xh?usp=sharing\n",
        "\n",
        "EMPEROR GitHub: https://github.com/ReddTea/astroEMPEROR"
      ],
      "metadata": {
        "id": "M2YkOr7A1Ast"
      }
    },
    {
      "cell_type": "markdown",
      "metadata": {
        "id": "uHFoWekcTOOT"
      },
      "source": [
        "# 1 Setup\n",
        "En esta sección procederemos a dejar listo todo lo necesario para realizar la actividad.\n",
        "\n",
        "Lo primero que debe realizar es descargar los archivos necesarios para la actividad. Para esto, debe:\n",
        "\n",
        "1.   enlazar GD al colab\n",
        "2.   descargar archivos a su GD\n",
        "\n",
        "\n",
        "El primer paso que debe tomar es conectar su Google Drive (hágalo con el asociado a su correo mail.udp.cl). Esto lo puede hacer de dos modos distintos:\n",
        "\n",
        "1. Ejecute el código de las dos celdas siguientes (haciendo click sobre el icono play). La segunda celda abrirá un pop-up en su browser, donde le pide confirmar permisos para su drive.\n",
        "\n",
        "2. Alternativamente, en el lado izquierdo aprete el ícono que tiene forma de carpeta. En el menú que se abre, haga click en el ícono de Google Drive (carpeta con un símbolo parecido al del reciclaje) y de permiso para su conexión."
      ]
    },
    {
      "cell_type": "code",
      "execution_count": 1,
      "metadata": {
        "id": "ZhdYQLXBCVbq"
      },
      "outputs": [],
      "source": [
        "import os\n",
        "from google.colab import drive"
      ]
    },
    {
      "cell_type": "code",
      "execution_count": 2,
      "metadata": {
        "colab": {
          "base_uri": "https://localhost:8080/",
          "height": 0
        },
        "id": "194LiRXcB_-s",
        "outputId": "e5d7020e-6137-43cd-976f-033ae40cccf5"
      },
      "outputs": [
        {
          "output_type": "stream",
          "name": "stdout",
          "text": [
            "Mounted at /content/drive\n"
          ]
        }
      ],
      "source": [
        "# conectar drive\n",
        "drive.mount('/content/drive')"
      ]
    },
    {
      "cell_type": "code",
      "execution_count": 3,
      "metadata": {
        "id": "7wTRZ5-dCK5-"
      },
      "outputs": [],
      "source": [
        "#Cambiamos el directorio de trabajo al de Google Drive.\n",
        "os.chdir('drive/MyDrive')"
      ]
    },
    {
      "cell_type": "code",
      "execution_count": 7,
      "metadata": {
        "colab": {
          "base_uri": "https://localhost:8080/",
          "height": 0
        },
        "id": "CQ7vI20nCLYS",
        "outputId": "063dd013-8e5d-4ae4-acf8-9925db3ce2b6"
      },
      "outputs": [
        {
          "output_type": "stream",
          "name": "stdout",
          "text": [
            "Cloning into 'udp_astro_101'...\n",
            "remote: Enumerating objects: 22, done.\u001b[K\n",
            "remote: Counting objects: 100% (22/22), done.\u001b[K\n",
            "remote: Compressing objects: 100% (13/13), done.\u001b[K\n",
            "remote: Total 22 (delta 5), reused 17 (delta 3), pack-reused 0\u001b[K\n",
            "Receiving objects: 100% (22/22), 15.86 KiB | 1.32 MiB/s, done.\n",
            "Resolving deltas: 100% (5/5), done.\n"
          ]
        }
      ],
      "source": [
        "#Descargamos las rutinas desde el repositorio de Github.\n",
        "!git clone https://github.com/ReddTea/udp_astro_101\n",
        "\n",
        "\n",
        "# La siguiente linea es para actualizar el repositorio.\n",
        "#!git pull https://github.com/ReddTea/udp_astro_101"
      ]
    },
    {
      "cell_type": "code",
      "source": [],
      "metadata": {
        "id": "QEhtuW8m2tge"
      },
      "execution_count": 8,
      "outputs": []
    },
    {
      "cell_type": "markdown",
      "source": [
        "# 2 Tests\n",
        "Nos aseguraremos que las rutinas pueden correr sin problemas con el siguiente test. Para esto es necesario:\n",
        "\n",
        "\n",
        "1.   Ubicarse en la carpeta de trabajo\n",
        "2.   Instalar las librerias necesarias\n",
        "3.   Correr los test\n",
        "\n"
      ],
      "metadata": {
        "id": "wkzcCb1XMDqk"
      }
    },
    {
      "cell_type": "code",
      "source": [
        "#Cambiamos el directorio de trabajo a la carpeta que acabamos de descargar\n",
        "os.chdir('udp_astro_101')"
      ],
      "metadata": {
        "id": "9eX0xs4CNIIB"
      },
      "execution_count": null,
      "outputs": []
    },
    {
      "cell_type": "markdown",
      "source": [
        "### 2.1 Instalar librerias de python"
      ],
      "metadata": {
        "id": "kCPiPY6b6nDM"
      }
    },
    {
      "cell_type": "code",
      "source": [
        "# Instalaremos las librerías de python necesarias\n",
        "%%capture\n",
        "import numpy as np\n",
        "try:\n",
        "    import reddemcee\n",
        "except ModuleNotFoundError:\n",
        "    !pip3 install git+https://github.com/ReddTea/reddemcee.git\n",
        "    import reddemcee\n",
        "\n",
        "try:\n",
        "    import astroemperor as emp\n",
        "except ModuleNotFoundError:\n",
        "    !pip3 install git+https://github.com/ReddTea/astroemperor.git\n",
        "    import astroemperor as emp"
      ],
      "metadata": {
        "id": "Uczq0klPMFd8"
      },
      "execution_count": 9,
      "outputs": []
    },
    {
      "cell_type": "markdown",
      "source": [
        "### 2.2 Reddemcee\n",
        "En este pequeño bloque haremos un test rápido con reddemcee, el sampler que utiliza emperor como engine.\n",
        "\n",
        "Para ello definimos un likelihood y un prior, además de los metaparámetros del sampler (temperatures, walkers, steps), y una posición inicial."
      ],
      "metadata": {
        "id": "aormTbZo3DXb"
      }
    },
    {
      "cell_type": "code",
      "source": [
        "def log_like(x, ivar):\n",
        "    # likelihood function\n",
        "    return -0.5 * np.sum(ivar * x ** 2)\n",
        "\n",
        "def log_prior(x):\n",
        "    # uninformative prior\n",
        "    return 0.0\n",
        "\n",
        "ndim, nwalkers = 5, 100\n",
        "ntemps = 5\n",
        "ivar = 1. / np.random.rand(ndim)\n",
        "\n",
        "# initial position\n",
        "p0 = list(np.random.randn(10, nwalkers, ndim))"
      ],
      "metadata": {
        "id": "mMrbJudDMZlA"
      },
      "execution_count": 10,
      "outputs": []
    },
    {
      "cell_type": "code",
      "source": [
        "# iniciamos el sampler\n",
        "sampler = reddemcee.PTSampler(nwalkers, ndim, log_like, log_prior,\n",
        "                              ntemps=ntemps, adaptative=True, logl_args=[ivar])"
      ],
      "metadata": {
        "id": "BsjL-F7sMqAu"
      },
      "execution_count": 11,
      "outputs": []
    },
    {
      "cell_type": "code",
      "source": [
        "s0 = sampler.run_mcmc(p0, 200, 2)"
      ],
      "metadata": {
        "colab": {
          "base_uri": "https://localhost:8080/",
          "height": 0
        },
        "id": "4wigYtIkM1Pt",
        "outputId": "dff334d7-4f28-4cb9-c9b4-87e57eb54d5d"
      },
      "execution_count": 12,
      "outputs": [
        {
          "output_type": "stream",
          "name": "stderr",
          "text": [
            "100%|██████████| 400/400 [00:04<00:00, 82.25it/s]\n"
          ]
        }
      ]
    },
    {
      "cell_type": "markdown",
      "source": [
        "Debería ver que la barra llegó a 100% sin errores.\n",
        "Esto basta para confirmar que no hubo problemas con la instalación de la librería."
      ],
      "metadata": {
        "id": "HsNMQ4tKM89b"
      }
    },
    {
      "cell_type": "markdown",
      "source": [
        "### 2.3 EMPER0R\n",
        "\n",
        "En este bloque haremos algo similar para EMPER0R. Haremos un run extremadamente corto, para verificar que todo funciona correctamente.\n",
        "\n",
        "La barra de carga no funciona correctamente en el collab, para obtener un aproximado del tiempo que tardará en correr, use este test como benchmark.\n",
        "\n",
        "Para un setup de [2, 50, 100, 2], como es en este caso, el número de iteraciones que probará es la multiplicación de estos números:\n",
        "$2 \\cdot 50 \\cdot 100 \\cdot 2 = 20,000$ valores distintos. Escalelo linealmente como muestra la siguiente tabla:\n",
        "\n",
        "\n",
        "\n",
        "| Iteraciones (N) | Tiempo (s) |\n",
        "|-----------------|------------|\n",
        "| 20,000          | 40         |\n",
        "| 40,000          | 80         |\n",
        "| 80,000          | 160        |"
      ],
      "metadata": {
        "id": "U9CO8hZR3-wI"
      }
    },
    {
      "cell_type": "markdown",
      "source": [
        "Para que la librería funcione correctamente, es necesario agregar el path de ella para que python la reconozca correctamente (celda siguiente). Si aún así obtiene un error al ejecutar\n",
        "\n",
        "```\n",
        "sim.run_auto(setup, k_start=1, k_end=1)\n",
        "```\n",
        "Pruebe volviendo a correr la celda\n",
        "```\n",
        "sys.path.append('/content/drive/MyDrive/udp_astro_101')\n",
        "```\n"
      ],
      "metadata": {
        "id": "57JTIB2M6_GN"
      }
    },
    {
      "cell_type": "code",
      "source": [
        "import sys\n",
        "sys.path.append('/content/drive/MyDrive/udp_astro_101')"
      ],
      "metadata": {
        "id": "QufLnOSb6xUX"
      },
      "execution_count": 17,
      "outputs": []
    },
    {
      "cell_type": "code",
      "source": [
        "sim = emp.Simulation()\n",
        "sim.set_engine('reddemcee')\n",
        "setup = np.array([2, 50, 100, 2])  # temperaturas, walkers, sweeps, steps\n",
        "\n",
        "sim.load_data('51Peg')  # Target folder name in /datafiles/\n",
        "sim.plot_all['paper_mode'] = True"
      ],
      "metadata": {
        "colab": {
          "base_uri": "https://localhost:8080/"
        },
        "id": "Xcjz8V6PM6xx",
        "outputId": "1c9edd7d-94c0-4a25-dcaa-39e7baad9a2a"
      },
      "execution_count": 18,
      "outputs": [
        {
          "output_type": "stream",
          "name": "stdout",
          "text": [
            "                                                                                \n",
            "                   ~~ Simulation Successfully Initialized ~~                    \n",
            "                                                                                \n",
            "\n",
            "\n",
            "                         Reading data from 51peg.vels\n",
            "                          \n",
            "\n",
            "\n"
          ]
        }
      ]
    },
    {
      "cell_type": "code",
      "source": [
        "sim.run_auto(setup, k_start=1, k_end=1)"
      ],
      "metadata": {
        "colab": {
          "base_uri": "https://localhost:8080/"
        },
        "id": "sSDMiYyzM-ar",
        "outputId": "4f04dec8-41e2-4ae9-f6cd-70c04a681170"
      },
      "execution_count": 19,
      "outputs": [
        {
          "output_type": "stream",
          "name": "stdout",
          "text": [
            "                                       Offset block added, OffsetBlock          \n",
            "\n",
            "\n",
            "                                       Jitter block added, JitterBlock          \n",
            "\n",
            "\n",
            "                                   Keplerian block added, KeplerianBlock 1      \n",
            "\n",
            "\n",
            "\n",
            "\n",
            "\n",
            "                                ~~ Setup Info ~~                                \n",
            "\n",
            "Current Engine is            reddemcee 0.6.6\n",
            "\n",
            "Number of cores is           2\n",
            "\n",
            "Save location is             datalogs/51Peg/run_2/k1\n",
            "\n",
            "Dynamical Criteria is        None\n",
            "\n",
            "Posterior fit method is      Gaussian Mixtures\n",
            "\n",
            "Limits constrain method is   sigma\n",
            "\n",
            "Model Selection method is    BIC\n",
            "\n",
            "\n",
            "                           ~~ Automatically Saving ~~                           \n",
            "\n",
            "\n",
            "Logger       : ✔\n",
            "\n",
            "Samples      : ✘\n",
            "\n",
            "Posteriors   : ✔\n",
            "\n",
            "Likelihoods  : ✔\n",
            "\n",
            "\n",
            "Plots: Posteriors           : ✔\n",
            "\n",
            "Plots: Keplerian Model      : ✔\n",
            "\n",
            "Plots: Gaussian Mixture     : ✔\n",
            "\n",
            "Plots: Parameter Histograms : ✔\n",
            "\n",
            "\n",
            "\n",
            "                               ~~ Pre-Run Info ~~                               \n",
            "\n",
            "\n",
            "\n",
            "Parameter           Prior               Limits\n",
            "------------------  ------------------  ---------------------------\n",
            "Period 1            ~𝓤 (1.5, 2187.042)  [1.500000e+00 2.187042e+03]\n",
            "Amplitude 1         ~𝓤 (0.0, 79.833)    [ 0.    79.833]\n",
            "Phase 1             ~𝓤 (0.0, 6.283)     [0.    6.283]\n",
            "Eccentricity 1      ~𝓝 (0.0, 0.1)       [0. 1.]\n",
            "Longitude 1         ~𝓤 (0.0, 6.283)     [0.    6.283]\n",
            "\n",
            "------------------  --------------------  -----------------\n",
            "Offset 1            ~𝓤 (-75.852, 75.852)  [-75.852  75.852]\n",
            "\n",
            "------------------  ----------  ---------------\n",
            "Jitter 1            ~𝓝 (5, 5)   [ 0.    75.852]\n",
            "\n",
            "\n",
            "\n",
            "Math for KeplerianBlock 1:\n",
            "\n",
            "                        K⋅(cos(ν(t,P,𝜙,e)+𝜔)+e⋅cos(𝜔))|₁                        \n",
            "Math for OffsetBlock:\n",
            "\n",
            "                                      γ₀|ᵢ                                      \n",
            "Math for JitterBlock:\n",
            "\n",
            "                                                                                \n",
            "\n",
            "\n",
            "\n",
            "\n",
            "                               Generating Samples                               \n",
            "\n",
            "\n",
            "                         Calculating Gaussian Mixtures                          \n"
          ]
        },
        {
          "output_type": "stream",
          "name": "stderr",
          "text": [
            "\n",
            "  0%|          | 0/9 [00:00<?, ?it/s]\u001b[A\n",
            " 22%|██▏       | 2/9 [00:00<00:00, 19.97it/s]\u001b[A\n",
            " 67%|██████▋   | 6/9 [00:00<00:00, 17.83it/s]\u001b[A\n",
            "100%|██████████| 9/9 [00:00<00:00, 12.45it/s]\n"
          ]
        },
        {
          "output_type": "stream",
          "name": "stdout",
          "text": [
            "\n",
            "\n",
            "\n",
            "                                 ~~ Best Fit ~~                                 \n",
            "\n",
            "\n",
            "\n",
            "Parameter           Posterior                 Value (max)    Value (mean)    Sigma  Limits\n",
            "------------------  ----------------------  -------------  --------------  -------  ---------------------------\n",
            "Period 1            ~𝓝 (1055.436, 446.331)       1129.59         1055.44   446.331  [1.500000e+00 2.187042e+03]\n",
            "Amplitude 1         ~𝓝 (12.122, 7.328)             18.699          12.122    7.328  [ 0.    79.833]\n",
            "Phase 1             ~𝓝 (3.953, 0.927)               4.721           3.953    0.927  [0.    6.283]\n",
            "Eccentricity 1      ~𝓝 (0.144, 0.087)               0.038           0.144    0.086  [0. 1.]\n",
            "Longitude 1         ~𝓝 (1.477, 1.204)               0.452           1.477    1.204  [0.    6.283]\n",
            "\n",
            "------------------  ------------------  -------------  -------------  -------  -------------\n",
            "Semi-Major Axis 1   ~𝓝 (1.977, 0.623)           2.123          1.977    0.623  [   0. 1000.]\n",
            "Minimum Mass 1      ~𝓝 (0.601, 0.397)           0.958          0.601    0.397  [   0. 1000.]\n",
            "\n",
            "------------------  ------------------  -------------  -------------  -------  -----------------\n",
            "Offset 1            ~𝓝 (-4.633, 5.14)          -8.571         -4.633     5.14  [-75.852  75.852]\n",
            "\n",
            "------------------  ------------------  -------------  -------------  -------  ---------------\n",
            "Jitter 1            ~𝓝 (36.945, 1.486)         35.865         36.945    1.486  [ 0.    75.852]\n",
            "\n",
            "\n",
            "\n",
            "                                 ~~ Run Info ~~                                 \n",
            "\n",
            "\n",
            "\n",
            "\n",
            "\n",
            "\n",
            "Info                                      Value\n",
            "----------------------------------------  --------------------------------------------------\n",
            "Star Name                      :          51Peg\n",
            "The sample sizes are           :          [5000, 5000]\n",
            "Temperatures, Walkers, Sweeps, Steps   :  [2, 50, 100, 2]\n",
            "Model used is                  :          ['KeplerianBlock 1', 'OffsetBlock', 'JitterBlock']\n",
            "N data                         :          256\n",
            "Number of Dimensions           :          7\n",
            "Degrees of Freedom             :          249\n",
            "\n",
            "\n",
            "              ---------------------------------------------------               \n",
            "\n",
            "\n",
            "\n",
            "Beta Detail                     :   ['1.000', '0.400']\n",
            "\n",
            "Temperature Swap                :   ['0.120']\n",
            "\n",
            "Mean Acceptance Fraction        :   ['0.310', '0.304']\n",
            "\n",
            "\n",
            "\n",
            "                           ~~ Statistical Details ~~                            \n",
            "\n",
            "\n",
            "\n",
            "Statistic                            Value\n",
            "-----------------------------------  ------------------\n",
            "The evidence is             :        -1313.267 +- 0.467\n",
            "The maximum posterior is    :        -1345.854\n",
            "The maximum likelihood is   :        -1304.816\n",
            "The BIC is                  :        2648.448\n",
            "The AIC is                  :        2623.632\n",
            "The DIC is                  :        2629.599\n",
            "The HQIC is                 :        2633.613\n",
            "The Bayes Factor is         :        8.451\n",
            "The chi2 is                 :        297.460\n",
            "The reduced chi2 is         :        1.195\n",
            "The RMSE is                 :        39.359\n",
            "\n",
            "\n",
            "\n",
            "\n",
            "\n",
            "                        Plotting Posterior Scatter Plot                         \n"
          ]
        },
        {
          "output_type": "stream",
          "name": "stderr",
          "text": [
            "\n",
            "  0%|          | 0/4 [00:00<?, ?it/s]\u001b[A\n",
            " 25%|██▌       | 1/4 [00:12<00:38, 12.69s/it]\u001b[A\n",
            " 50%|█████     | 2/4 [00:13<00:10,  5.41s/it]\u001b[A\n",
            "100%|██████████| 4/4 [00:28<00:00,  7.23s/it]\n",
            "\n",
            "  0%|          | 0/2 [00:00<?, ?it/s]\u001b[A\n",
            "100%|██████████| 2/2 [00:04<00:00,  2.17s/it]\n"
          ]
        },
        {
          "output_type": "stream",
          "name": "stdout",
          "text": [
            "\n",
            "\n",
            "                            Plotting Histograms Plot                            \n"
          ]
        },
        {
          "output_type": "stream",
          "name": "stderr",
          "text": [
            "\n",
            "  0%|          | 0/6 [00:00<?, ?it/s]\u001b[A\n",
            " 17%|█▋        | 1/6 [00:01<00:09,  1.98s/it]\u001b[A\n",
            " 33%|███▎      | 2/6 [00:02<00:04,  1.14s/it]\u001b[A\n",
            " 50%|█████     | 3/6 [00:03<00:02,  1.16it/s]\u001b[A\n",
            " 67%|██████▋   | 4/6 [00:05<00:02,  1.37s/it]\u001b[A\n",
            " 83%|████████▎ | 5/6 [00:05<00:01,  1.07s/it]\u001b[A\n",
            "100%|██████████| 6/6 [00:06<00:00,  1.07s/it]\n"
          ]
        },
        {
          "output_type": "stream",
          "name": "stdout",
          "text": [
            "\n",
            "\n",
            "                           Plotting Keplerian Models                            \n"
          ]
        },
        {
          "output_type": "stream",
          "name": "stderr",
          "text": [
            "\n",
            "  0%|          | 0/2 [00:00<?, ?it/s]\u001b[A\n",
            " 50%|█████     | 1/2 [00:02<00:02,  2.81s/it]\u001b[A\n",
            "100%|██████████| 2/2 [00:05<00:00,  2.54s/it]\n"
          ]
        },
        {
          "output_type": "stream",
          "name": "stdout",
          "text": [
            "\n",
            "\n",
            "                          Plotting E[log L](beta) Plot                          \n"
          ]
        },
        {
          "output_type": "stream",
          "name": "stderr",
          "text": [
            "\n",
            "  0%|          | 0/1 [00:00<?, ?it/s]\u001b[A\n",
            "100%|██████████| 1/1 [00:00<00:00,  2.60it/s]\n"
          ]
        },
        {
          "output_type": "stream",
          "name": "stdout",
          "text": [
            "\n",
            "\n",
            "                           Plotting Temperature Rates                           \n"
          ]
        },
        {
          "output_type": "stream",
          "name": "stderr",
          "text": [
            "\n",
            "  0%|          | 0/1 [00:00<?, ?it/s]\u001b[A\n",
            "100%|██████████| 1/1 [00:00<00:00,  1.76it/s]\n"
          ]
        },
        {
          "output_type": "stream",
          "name": "stdout",
          "text": [
            "\n",
            "\n",
            "                                   PLOT ARVIZ                                   \n"
          ]
        },
        {
          "output_type": "stream",
          "name": "stderr",
          "text": [
            "\n",
            "  0%|          | 0/3 [00:00<?, ?it/s]\u001b[A/usr/local/lib/python3.10/dist-packages/arviz/utils.py:184: NumbaDeprecationWarning: The 'nopython' keyword argument was not supplied to the 'numba.jit' decorator. The implicit default value for this argument is currently False, but it will be changed to True in Numba 0.59.0. See https://numba.readthedocs.io/en/stable/reference/deprecation.html#deprecation-of-object-mode-fall-back-behaviour-when-using-jit for details.\n",
            "  numba_fn = numba.jit(**self.kwargs)(self.function)\n",
            "\n",
            " 33%|███▎      | 1/3 [00:20<00:41, 20.71s/it]\u001b[A\n",
            " 67%|██████▋   | 2/3 [00:22<00:09,  9.42s/it]\u001b[A\n",
            "100%|██████████| 3/3 [00:23<00:00,  7.98s/it]\n"
          ]
        },
        {
          "output_type": "stream",
          "name": "stdout",
          "text": [
            "\n",
            "\n",
            "                           Plotting Gaussian Mixtures                           \n"
          ]
        },
        {
          "output_type": "stream",
          "name": "stderr",
          "text": [
            "\n",
            "  0%|          | 0/7 [00:00<?, ?it/s]\u001b[A\n",
            " 14%|█▍        | 1/7 [00:00<00:03,  1.99it/s]\u001b[A\n",
            " 29%|██▊       | 2/7 [00:01<00:02,  1.78it/s]\u001b[A\n",
            " 43%|████▎     | 3/7 [00:01<00:02,  1.57it/s]\u001b[A\n",
            " 57%|█████▋    | 4/7 [00:02<00:02,  1.50it/s]\u001b[A\n",
            " 71%|███████▏  | 5/7 [00:03<00:01,  1.43it/s]\u001b[A\n",
            " 86%|████████▌ | 6/7 [00:05<00:01,  1.23s/it]\u001b[A\n",
            "100%|██████████| 7/7 [00:06<00:00,  1.10it/s]\n"
          ]
        },
        {
          "output_type": "stream",
          "name": "stdout",
          "text": [
            "\n",
            "Time RUN         :  00:00:41\n",
            "\n",
            "Time POSTPROCESS :  00:00:00\n",
            "\n",
            "Time CALCULATE GM:  00:00:00\n",
            "\n",
            "Time Plot model      :  00:00:05\n",
            "\n",
            "Time Plot posteriors :  00:00:34\n",
            "\n",
            "Time Plot histograms :  00:00:06\n",
            "\n",
            "Time Plot betas      :  00:00:00\n",
            "\n",
            "Time Plot arviz      :  00:00:23\n",
            "\n",
            "Time Plot GM         :  00:00:06\n",
            "                                  Cleaning Run                                  \n"
          ]
        },
        {
          "output_type": "stream",
          "name": "stderr",
          "text": [
            "\n",
            "100%|██████████| 3/3 [00:00<00:00, 183.95it/s]\n"
          ]
        },
        {
          "output_type": "stream",
          "name": "stdout",
          "text": [
            "\n",
            "BIC condition met!!\n",
            "\n",
            "present BIC < past BIC - 5\n",
            "2648.448 < inf - 5\n",
            "\n",
            "\n",
            "                                                                                \n",
            "                            ~~ Run came to an end ~~                            \n",
            "                                                                                \n",
            "                                       \n",
            "                                        \n"
          ]
        }
      ]
    },
    {
      "cell_type": "code",
      "source": [
        "Podrá encontrar todos los resultados en udp_astro_101/datalogs/51Peg/run_X, donde el X mayor corresponde al último run que haya hecho.\n",
        "Las subcarpetas kX/ representan el número de keplerianas en el modelo."
      ],
      "metadata": {
        "id": "DySa22yj9R2q"
      },
      "execution_count": null,
      "outputs": []
    },
    {
      "cell_type": "markdown",
      "source": [
        "## Preguntas a abordar\n",
        "\n",
        "¿Qué forma tienen las estimaciones posteriores marginadas bajo diferentes supuestos de cómo se aplican los modelos de ruido?\n",
        "\n",
        "¿Cómo funciona el muestreador al analizar un único conjunto de datos de series temporales PRV, frente a varios conjuntos de datos o todos los conjuntos de datos combinados?\n",
        "\n",
        "¿Qué modelo de ruido funciona mejor al analizar estos datos? ¿Y por qué?\n",
        "\n",
        "¿Qué antecedentes son los más adecuados para los parámetros necesarios para modelar dichos datos y descubrir planetas?\n",
        "\n",
        "¿Cómo actúan las métricas aplicadas al incluir o no un modelo de planeta kepleriano en lugar de un modelo de ruido plano? ¿Cómo continúa esto cuando se avanza hacia múltiples planetas?\n",
        "\n",
        "¿Qué métricas cree que son las más adecuadas para este tipo de análisis? Sugerencia: compare y analice las probabilidades extraídas de diferentes estimadores como BIC, AIC, RMS, etc., y explique lo que cree que está sucediendo.\n",
        "\n",
        "¿Cómo se comparan las estimaciones de los parámetros finales con los valores determinados cuando se utiliza un procedimiento de ajuste más estándar de Lomb-Scargle y Kepleriano? Tenga en cuenta que puede utilizar herramientas como ExoStriker para esta parte, pero no es estrictamente necesario para hacer este comparación.\n",
        "\n",
        "ExoStriker GitHub: https://github.com/3fon3fonov/exostriker\n",
        "\n",
        "**Nota que no es necesario a responder de todos de las preguntas, son para dar ideas principalmente!!"
      ],
      "metadata": {
        "id": "u7xtyxmX8_4w"
      }
    },
    {
      "cell_type": "code",
      "source": [],
      "metadata": {
        "id": "yQDjJcxx9NmM"
      },
      "execution_count": null,
      "outputs": []
    }
  ],
  "metadata": {
    "colab": {
      "provenance": []
    },
    "kernelspec": {
      "display_name": "Python 3",
      "name": "python3"
    },
    "language_info": {
      "name": "python"
    }
  },
  "nbformat": 4,
  "nbformat_minor": 0
}
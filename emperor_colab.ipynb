{
  "cells": [
    {
      "cell_type": "markdown",
      "metadata": {
        "id": "SB7zCvYZV5KD"
      },
      "source": [
        "astro_101 placeholder for (course name)"
      ]
    },
    {
      "cell_type": "markdown",
      "metadata": {
        "id": "CmCayqo4TAYa"
      },
      "source": [
        "# Actividad astro_101\n",
        "Este cuaderno le ayudará a instalar todo lo que necesita para realizar la reducción y análisis de los datos de [...].\n",
        "\n",
        "Asegúrese de leerlo bien."
      ]
    },
    {
      "cell_type": "markdown",
      "metadata": {
        "id": "uHFoWekcTOOT"
      },
      "source": [
        "# 1 Setup\n",
        "Lo primero que debe realizar es descargar los archivos necesarios para la actividad. Para esto, debe:\n",
        "\n",
        "\n",
        "1.   enlazar GD al colab\n",
        "2.   descargar archivos a su GD\n",
        "\n",
        "\n",
        "El primer paso que debe tomar es conectar su Google Drive (hagalo con el asociado a su correo mail.udp.cl). Para esto, en el lado izquierdo aprete el ícono que tiene forma de carpeta. En el menú que se abre, haga click en el ícono de Google Drive (carpeta con un símbolo parecido al del reciclaje) y de permiso para su conexión.\n",
        "\n",
        "Alternativamente, ejecute el código siguiente (haciendo click sobre el icono play)."
      ]
    },
    {
      "cell_type": "code",
      "execution_count": null,
      "metadata": {
        "id": "ZhdYQLXBCVbq"
      },
      "outputs": [],
      "source": [
        "import os\n",
        "from google.colab import drive"
      ]
    },
    {
      "cell_type": "code",
      "execution_count": null,
      "metadata": {
        "colab": {
          "base_uri": "https://localhost:8080/"
        },
        "id": "194LiRXcB_-s",
        "outputId": "5d6084e1-128d-4fe5-b1ca-4fbe91af1345"
      },
      "outputs": [
        {
          "output_type": "stream",
          "name": "stdout",
          "text": [
            "Mounted at /content/drive\n"
          ]
        }
      ],
      "source": [
        "# conectar drive\n",
        "drive.mount('/content/drive')"
      ]
    },
    {
      "cell_type": "code",
      "execution_count": null,
      "metadata": {
        "id": "7wTRZ5-dCK5-"
      },
      "outputs": [],
      "source": [
        "#Cambiamos el directorio de trabajo al de Google Drive.\n",
        "os.chdir('drive/MyDrive')"
      ]
    },
    {
      "cell_type": "code",
      "execution_count": null,
      "metadata": {
        "id": "4LpH72phCLUV"
      },
      "outputs": [],
      "source": [
        "#Creamos un directorio donde vamos a guardar todas las rutinas y los archivos.\n",
        "!mkdir astro_101\n",
        "os.chdir('astro_101')"
      ]
    },
    {
      "cell_type": "code",
      "execution_count": null,
      "metadata": {
        "colab": {
          "base_uri": "https://localhost:8080/"
        },
        "id": "CQ7vI20nCLYS",
        "outputId": "585898e5-362b-44aa-8b47-d3d7f45e7310"
      },
      "outputs": [
        {
          "output_type": "stream",
          "name": "stdout",
          "text": [
            "Cloning into 'udp_astro_101'...\n",
            "remote: Enumerating objects: 15, done.\u001b[K\n",
            "remote: Counting objects: 100% (15/15), done.\u001b[K\n",
            "remote: Compressing objects: 100% (9/9), done.\u001b[K\n",
            "remote: Total 15 (delta 1), reused 11 (delta 0), pack-reused 0\u001b[K\n",
            "Receiving objects: 100% (15/15), 6.55 KiB | 609.00 KiB/s, done.\n",
            "Resolving deltas: 100% (1/1), done.\n"
          ]
        }
      ],
      "source": [
        "#Descargamos las rutinas desde el repositorio de Github.\n",
        "!git clone https://github.com/ReddTea/udp_astro_101\n",
        "#!git pull https://github.com/ReddTea/udp_astro_101"
      ]
    },
    {
      "cell_type": "markdown",
      "source": [
        "# 2 TEST\n",
        "Nos aseguraremos que las rutinas pueden correr sin problemas con el siguiente test. Para esto es necesario:\n",
        "\n",
        "\n",
        "1.   Ubicarse en la carpeta de trabajo\n",
        "2.   Instalar las librerias necesarias\n",
        "3.   Correr los test\n",
        "\n"
      ],
      "metadata": {
        "id": "wkzcCb1XMDqk"
      }
    },
    {
      "cell_type": "code",
      "source": [
        "os.chdir('udp_astro_101')"
      ],
      "metadata": {
        "id": "9eX0xs4CNIIB"
      },
      "execution_count": null,
      "outputs": []
    },
    {
      "cell_type": "code",
      "source": [
        "%%capture\n",
        "import numpy as np\n",
        "try:\n",
        "    import reddemcee\n",
        "except ModuleNotFoundError:\n",
        "    !pip3 install git+https://github.com/ReddTea/reddemcee.git\n",
        "    import reddemcee\n",
        "\n",
        "try:\n",
        "    import astroemperor as emp\n",
        "except ModuleNotFoundError:\n",
        "    !pip3 install git+https://github.com/ReddTea/astroemperor.git\n",
        "    import astroemperor as emp"
      ],
      "metadata": {
        "id": "Uczq0klPMFd8"
      },
      "execution_count": null,
      "outputs": []
    },
    {
      "cell_type": "markdown",
      "source": [],
      "metadata": {
        "id": "T2JNzj2MMyfq"
      }
    },
    {
      "cell_type": "code",
      "source": [
        "def log_like(x, ivar):\n",
        "    return -0.5 * np.sum(ivar * x ** 2)\n",
        "\n",
        "def log_prior(x):\n",
        "    return 0.0\n",
        "\n",
        "ndim, nwalkers = 5, 100\n",
        "ntemps = 5\n",
        "ivar = 1. / np.random.rand(ndim)\n",
        "p0 = list(np.random.randn(10, nwalkers, ndim))"
      ],
      "metadata": {
        "id": "mMrbJudDMZlA"
      },
      "execution_count": null,
      "outputs": []
    },
    {
      "cell_type": "code",
      "source": [
        "# init sampler\n",
        "sampler = reddemcee.PTSampler(nwalkers, ndim, log_like, log_prior,\n",
        "                              ntemps=ntemps, adaptative=True, logl_args=[ivar])"
      ],
      "metadata": {
        "id": "BsjL-F7sMqAu"
      },
      "execution_count": null,
      "outputs": []
    },
    {
      "cell_type": "code",
      "source": [
        "s0 = sampler.run_mcmc(p0, 200, 2)"
      ],
      "metadata": {
        "colab": {
          "base_uri": "https://localhost:8080/"
        },
        "id": "4wigYtIkM1Pt",
        "outputId": "f5acaff8-671a-49e1-e7ee-4cb7df0a9d41"
      },
      "execution_count": null,
      "outputs": [
        {
          "output_type": "stream",
          "name": "stderr",
          "text": [
            "100%|██████████| 400/400 [00:06<00:00, 63.31it/s]\n"
          ]
        }
      ]
    },
    {
      "cell_type": "markdown",
      "source": [
        "#"
      ],
      "metadata": {
        "id": "HsNMQ4tKM89b"
      }
    },
    {
      "cell_type": "code",
      "source": [
        "sim = emp.Simulation()\n",
        "sim.set_engine('reddemcee')\n",
        "setup = np.array([3, 50, 250, 2])\n",
        "\n",
        "sim.load_data('51Peg')  # Target folder name in /datafiles/\n",
        "sim.plot_all['paper_mode'] = True"
      ],
      "metadata": {
        "colab": {
          "base_uri": "https://localhost:8080/"
        },
        "id": "Xcjz8V6PM6xx",
        "outputId": "cdbdc05b-41fd-485a-9130-28ec5825a6b2"
      },
      "execution_count": null,
      "outputs": [
        {
          "output_type": "stream",
          "name": "stdout",
          "text": [
            "                                                                                \n",
            "                   ~~ Simulation Successfully Initialized ~~                    \n",
            "                                                                                \n",
            "\n",
            "\n",
            "                         Reading data from 51peg.vels\n",
            "                          \n",
            "\n",
            "\n"
          ]
        }
      ]
    },
    {
      "cell_type": "code",
      "source": [
        "sim.run_auto(setup, k_start=1, k_end=1)"
      ],
      "metadata": {
        "colab": {
          "base_uri": "https://localhost:8080/"
        },
        "id": "sSDMiYyzM-ar",
        "outputId": "32de4830-1347-4856-c537-a2b7f29a3075"
      },
      "execution_count": null,
      "outputs": [
        {
          "output_type": "stream",
          "name": "stdout",
          "text": [
            "                                       Offset block added, OffsetBlock          \n",
            "\n",
            "\n",
            "                                       Jitter block added, JitterBlock          \n",
            "\n",
            "\n",
            "                                   Keplerian block added, KeplerianBlock 1      \n",
            "\n",
            "\n",
            "\n",
            "\n",
            "\n",
            "                                ~~ Setup Info ~~                                \n",
            "\n",
            "Current Engine is            reddemcee 0.6\n",
            "\n",
            "Number of cores is           2\n",
            "\n",
            "Save location is             datalogs/51Peg/run_1/k1\n",
            "\n",
            "Dynamical Criteria is        None\n",
            "\n",
            "Posterior fit method is      Gaussian Mixtures\n",
            "\n",
            "Limits constrain method is   sigma\n",
            "\n",
            "Model Selection method is    BIC\n",
            "\n",
            "\n",
            "                           ~~ Automatically Saving ~~                           \n",
            "\n",
            "\n",
            "Logger       : ✔\n",
            "\n",
            "Samples      : ✘\n",
            "\n",
            "Posteriors   : ✔\n",
            "\n",
            "Likelihoods  : ✔\n",
            "\n",
            "\n",
            "Plots: Posteriors           : ✔\n",
            "\n",
            "Plots: Keplerian Model      : ✔\n",
            "\n",
            "Plots: Gaussian Mixture     : ✔\n",
            "\n",
            "Plots: Parameter Histograms : ✔\n",
            "\n",
            "\n",
            "\n",
            "                               ~~ Pre-Run Info ~~                               \n",
            "\n",
            "\n",
            "\n",
            "Parameter           Prior               Limits\n",
            "------------------  ------------------  ---------------------------\n",
            "Period 1            ~𝓤 (1.5, 2187.042)  [1.500000e+00 2.187042e+03]\n",
            "Amplitude 1         ~𝓤 (0.0, 79.833)    [ 0.    79.833]\n",
            "Phase 1             ~𝓤 (0.0, 6.283)     [0.    6.283]\n",
            "Eccentricity 1      ~𝓝 (0.0, 0.1)       [0. 1.]\n",
            "Longitude 1         ~𝓤 (0.0, 6.283)     [0.    6.283]\n",
            "\n",
            "------------------  --------------------  -----------------\n",
            "Offset 1            ~𝓤 (-75.852, 75.852)  [-75.852  75.852]\n",
            "\n",
            "------------------  ----------  ---------------\n",
            "Jitter 1            ~𝓝 (5, 5)   [ 0.    75.852]\n",
            "\n",
            "\n",
            "\n",
            "Math for KeplerianBlock 1:\n",
            "\n",
            "                        K⋅(cos(ν(t,P,𝜙,e)+𝜔)+e⋅cos(𝜔))|₁                        \n",
            "Math for OffsetBlock:\n",
            "\n",
            "                                      γ₀|ᵢ                                      \n",
            "Math for JitterBlock:\n",
            "\n",
            "                                                                                \n",
            "\n",
            "\n",
            "\n",
            "\n",
            "                               Generating Samples                               \n"
          ]
        }
      ]
    },
    {
      "cell_type": "code",
      "source": [],
      "metadata": {
        "id": "sTx2Ol1pXmDz"
      },
      "execution_count": null,
      "outputs": []
    },
    {
      "cell_type": "code",
      "source": [],
      "metadata": {
        "id": "_mW3qgSQXlfO"
      },
      "execution_count": null,
      "outputs": []
    },
    {
      "cell_type": "code",
      "source": [
        "get_ipython().__class__.__name__"
      ],
      "metadata": {
        "id": "5xoy4tgKNv6m",
        "colab": {
          "base_uri": "https://localhost:8080/",
          "height": 35
        },
        "outputId": "051eb67a-271c-401c-86ba-aebbd1d7e41e"
      },
      "execution_count": null,
      "outputs": [
        {
          "output_type": "execute_result",
          "data": {
            "text/plain": [
              "'Shell'"
            ],
            "application/vnd.google.colaboratory.intrinsic+json": {
              "type": "string"
            }
          },
          "metadata": {},
          "execution_count": 1
        }
      ]
    },
    {
      "cell_type": "code",
      "source": [
        "def in_ipynb():\n",
        "    try:\n",
        "        cfg = get_ipython().config\n",
        "        if cfg['IPKernelApp']['parent_appname'] == 'ipython-notebook':\n",
        "            return True\n",
        "        else:\n",
        "            return False\n",
        "    except NameError:\n",
        "        return False"
      ],
      "metadata": {
        "id": "IoAv_6vbDslL"
      },
      "execution_count": null,
      "outputs": []
    },
    {
      "cell_type": "code",
      "source": [
        "in_ipynb()"
      ],
      "metadata": {
        "colab": {
          "base_uri": "https://localhost:8080/"
        },
        "id": "4xvTwMiCD7Ei",
        "outputId": "334bfe31-3487-4ea7-9d42-f646739dabaa"
      },
      "execution_count": null,
      "outputs": [
        {
          "output_type": "execute_result",
          "data": {
            "text/plain": [
              "False"
            ]
          },
          "metadata": {},
          "execution_count": 3
        }
      ]
    },
    {
      "cell_type": "code",
      "source": [
        "get_ipython().__class__.__module__"
      ],
      "metadata": {
        "colab": {
          "base_uri": "https://localhost:8080/",
          "height": 35
        },
        "id": "kF84OHVwD9Kt",
        "outputId": "bbb2f685-741b-4001-d1ad-130c865f652d"
      },
      "execution_count": null,
      "outputs": [
        {
          "output_type": "execute_result",
          "data": {
            "text/plain": [
              "'google.colab._shell'"
            ],
            "application/vnd.google.colaboratory.intrinsic+json": {
              "type": "string"
            }
          },
          "metadata": {},
          "execution_count": 4
        }
      ]
    },
    {
      "cell_type": "code",
      "source": [
        "def my_shell_env():\n",
        "    try:\n",
        "        #\n",
        "        shl = get_ipython().__class__.__name__\n",
        "        if shl == 'ZMQInteractiveShell':\n",
        "            return 'jupyter-notebook'\n",
        "        elif shl == 'TerminalInteractiveShell':\n",
        "            return 'ipython-terminal'\n",
        "        elif get_ipython().__class__.__module__ == 'google.colab._shell':\n",
        "            return 'google-colab'\n",
        "\n",
        "    except NameError:\n",
        "        return 'python-terminal'"
      ],
      "metadata": {
        "id": "4UvSs4leEHOT"
      },
      "execution_count": null,
      "outputs": []
    },
    {
      "cell_type": "code",
      "source": [
        "get_ipython().config"
      ],
      "metadata": {
        "colab": {
          "base_uri": "https://localhost:8080/"
        },
        "id": "TnF5UZxFEUwl",
        "outputId": "0f6308a5-edb5-42d6-c61b-07e238864784"
      },
      "execution_count": null,
      "outputs": [
        {
          "output_type": "execute_result",
          "data": {
            "text/plain": [
              "{'ColabKernelApp': {'connection_file': '/root/.local/share/jupyter/runtime/kernel-03ed6b5a-b621-43b7-a340-a366cd32a699.json'},\n",
              " 'IPKernelApp': {'kernel_class': 'google.colab._kernel.Kernel',\n",
              "  'parent_appname': <LazyConfigValue {}>},\n",
              " 'Completer': {'use_jedi': False},\n",
              " 'InteractiveShellApp': {'extensions': ['google.colab'],\n",
              "  'reraise_ipython_extension_failures': True,\n",
              "  'exec_lines': ['__import__(\"logging\").basicConfig()',\n",
              "   '__import__(\"logging\").getLogger(\"google.auth._default\").setLevel(40)',\n",
              "   '__import__(\"logging\").getLogger(\"googleapiclient.discovery_cache\").setLevel(40)'],\n",
              "  'matplotlib': 'inline'},\n",
              " 'HistoryManager': {'hist_file': ':memory:'}}"
            ]
          },
          "metadata": {},
          "execution_count": 5
        }
      ]
    },
    {
      "cell_type": "code",
      "source": [
        "get_ipython().__class__.__name__"
      ],
      "metadata": {
        "colab": {
          "base_uri": "https://localhost:8080/",
          "height": 35
        },
        "id": "KLJdl1_TEVV_",
        "outputId": "4242335d-a506-4991-bd1a-b143fecd9d0d"
      },
      "execution_count": null,
      "outputs": [
        {
          "output_type": "execute_result",
          "data": {
            "text/plain": [
              "'Shell'"
            ],
            "application/vnd.google.colaboratory.intrinsic+json": {
              "type": "string"
            }
          },
          "metadata": {},
          "execution_count": 6
        }
      ]
    },
    {
      "cell_type": "code",
      "source": [
        "get_ipython().__class__.__module__"
      ],
      "metadata": {
        "colab": {
          "base_uri": "https://localhost:8080/",
          "height": 35
        },
        "id": "_2zCI6HKEwC-",
        "outputId": "cee52c46-7d95-422d-b11c-265e3184f86e"
      },
      "execution_count": null,
      "outputs": [
        {
          "output_type": "execute_result",
          "data": {
            "text/plain": [
              "'google.colab._shell'"
            ],
            "application/vnd.google.colaboratory.intrinsic+json": {
              "type": "string"
            }
          },
          "metadata": {},
          "execution_count": 7
        }
      ]
    },
    {
      "cell_type": "code",
      "source": [
        "my_shell_env()"
      ],
      "metadata": {
        "colab": {
          "base_uri": "https://localhost:8080/",
          "height": 35
        },
        "id": "iEzJP1hyGNXW",
        "outputId": "ec5dc290-b40e-44c9-d502-bdf9d0367f49"
      },
      "execution_count": null,
      "outputs": [
        {
          "output_type": "execute_result",
          "data": {
            "text/plain": [
              "'google-colab'"
            ],
            "application/vnd.google.colaboratory.intrinsic+json": {
              "type": "string"
            }
          },
          "metadata": {},
          "execution_count": 9
        }
      ]
    },
    {
      "cell_type": "code",
      "source": [],
      "metadata": {
        "id": "SaIMMbWgKHpc"
      },
      "execution_count": null,
      "outputs": []
    }
  ],
  "metadata": {
    "colab": {
      "provenance": []
    },
    "kernelspec": {
      "display_name": "Python 3",
      "name": "python3"
    },
    "language_info": {
      "name": "python"
    }
  },
  "nbformat": 4,
  "nbformat_minor": 0
}
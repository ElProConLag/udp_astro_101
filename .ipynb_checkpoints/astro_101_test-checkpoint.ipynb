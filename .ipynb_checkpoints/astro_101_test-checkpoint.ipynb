{
 "cells": [
  {
   "cell_type": "markdown",
   "id": "5ae1cd11",
   "metadata": {},
   "source": [
    "# Import dependencies"
   ]
  },
  {
   "cell_type": "code",
   "execution_count": null,
   "id": "b898a7a8",
   "metadata": {},
   "outputs": [],
   "source": [
    "import numpy as np\n",
    "import reddemcee\n",
    "import astroemperor"
   ]
  },
  {
   "cell_type": "markdown",
   "id": "39982010",
   "metadata": {},
   "source": [
    "# Test reddemcee"
   ]
  },
  {
   "cell_type": "code",
   "execution_count": 1,
   "id": "680041a3",
   "metadata": {
    "ExecuteTime": {
     "end_time": "2024-05-17T19:26:48.312789Z",
     "start_time": "2024-05-17T19:26:48.308595Z"
    }
   },
   "outputs": [],
   "source": [
    "def log_like(x, ivar):\n",
    "    return -0.5 * np.sum(ivar * x ** 2)\n",
    "\n",
    "def log_prior(x):\n",
    "    return 0.0\n",
    "\n",
    "ndim, nwalkers = 5, 100\n",
    "ntemps = 5\n",
    "ivar = 1. / np.random.rand(ndim)\n",
    "p0 = list(np.random.randn(10, nwalkers, ndim))"
   ]
  },
  {
   "cell_type": "code",
   "execution_count": 2,
   "id": "e0c7c201",
   "metadata": {
    "ExecuteTime": {
     "end_time": "2024-05-17T19:26:58.248511Z",
     "start_time": "2024-05-17T19:26:57.895360Z"
    }
   },
   "outputs": [
    {
     "ename": "NameError",
     "evalue": "name 'reddemcee' is not defined",
     "output_type": "error",
     "traceback": [
      "\u001b[0;31m---------------------------------------------------------------------------\u001b[0m",
      "\u001b[0;31mNameError\u001b[0m                                 Traceback (most recent call last)",
      "Input \u001b[0;32mIn [2]\u001b[0m, in \u001b[0;36m<cell line: 2>\u001b[0;34m()\u001b[0m\n\u001b[1;32m      1\u001b[0m \u001b[38;5;66;03m# init sampler\u001b[39;00m\n\u001b[0;32m----> 2\u001b[0m sampler \u001b[38;5;241m=\u001b[39m \u001b[43mreddemcee\u001b[49m\u001b[38;5;241m.\u001b[39mPTSampler(nwalkers, ndim, log_like, log_prior,\n\u001b[1;32m      3\u001b[0m                               ntemps\u001b[38;5;241m=\u001b[39mntemps, adaptative\u001b[38;5;241m=\u001b[39m\u001b[38;5;28;01mTrue\u001b[39;00m, logl_args\u001b[38;5;241m=\u001b[39m[ivar])\n",
      "\u001b[0;31mNameError\u001b[0m: name 'reddemcee' is not defined"
     ]
    }
   ],
   "source": [
    "# init sampler\n",
    "sampler = reddemcee.PTSampler(nwalkers, ndim, log_like, log_prior,\n",
    "                              ntemps=ntemps, adaptative=True, logl_args=[ivar])"
   ]
  },
  {
   "cell_type": "code",
   "execution_count": null,
   "id": "cd6492de",
   "metadata": {},
   "outputs": [],
   "source": [
    "s0 = sampler.run_mcmc(p0, 200, 2)"
   ]
  },
  {
   "cell_type": "markdown",
   "id": "b29234bd",
   "metadata": {},
   "source": [
    "# Test emp"
   ]
  },
  {
   "cell_type": "code",
   "execution_count": null,
   "id": "63f1b665",
   "metadata": {},
   "outputs": [],
   "source": [
    "sim = emp.Simulation()\n",
    "sim.set_engine('reddemcee')\n",
    "setup = np.array([3, 50, 250, 2])\n",
    "\n",
    "sim.load_data('51Peg')  # Target folder name in /datafiles/\n",
    "sim.plot_all['paper_mode'] = True"
   ]
  }
 ],
 "metadata": {
  "kernelspec": {
   "display_name": "Python 3 (ipykernel)",
   "language": "python",
   "name": "python3"
  },
  "language_info": {
   "codemirror_mode": {
    "name": "ipython",
    "version": 3
   },
   "file_extension": ".py",
   "mimetype": "text/x-python",
   "name": "python",
   "nbconvert_exporter": "python",
   "pygments_lexer": "ipython3",
   "version": "3.9.12"
  }
 },
 "nbformat": 4,
 "nbformat_minor": 5
}
